{
 "cells": [
  {
   "cell_type": "code",
   "execution_count": null,
   "id": "96e11fec-0d41-4335-9733-34ea6a14abbf",
   "metadata": {},
   "outputs": [],
   "source": [
    "#import packages here\n",
    "import pandas as pd\n",
    "import numpy as np\n",
    "import matplotlib.pyplot as plt\n",
    "import seaborn as sns\n",
    "sns.set()\n",
    "\n",
    "#sklearn packages\n",
    "from sklearn.model_selection import train_test_split\n",
    "from sklearn.preprocessing import RobustScaler\n",
    "\n",
    "\n",
    "#filter methods\n",
    "# spearman \n",
    "# chi-square\n",
    "import scipy.stats as stats\n",
    "from scipy.stats import chi2_contingency\n",
    "\n",
    "\n",
    "#wrapper methods\n",
    "from sklearn.tree import DecisionTreeClassifier\n",
    "from sklearn.feature_selection import RFE\n",
    "from sklearn.linear_model import LogisticRegression, LassoCV, LinearRegression\n",
    "\n",
    "\n",
    "from sklearn.pipeline import Pipeline\n",
    "\n",
    "\n",
    "#models\n",
    "from sklearn.ensemble import RandomForestClassifier\n",
    "\n",
    "\n",
    "#feature_selection\n",
    "from sklearn.feature_selection import mutual_info_classif, mutual_info_regression, chi2, f_regression, SelectKBest\n",
    "\n",
    "#performance metrics\n",
    "from sklearn.metrics import confusion_matrix, accuracy_score, f1_score, precision_score, recall_score, classification_report, mean_squared_error, mean_absolute_error, r2_score\n",
    "\n",
    "#warnings\n",
    "import warnings\n",
    "warnings.filterwarnings('ignore')"
   ]
  },
  {
   "cell_type": "code",
   "execution_count": null,
   "id": "04715685-7feb-490b-8bef-8dcf11feb30c",
   "metadata": {},
   "outputs": [],
   "source": [
    "#test_df = pd.read_csv(\"./data/test_data.csv\")"
   ]
  },
  {
   "cell_type": "code",
   "execution_count": null,
   "id": "ec9916f1-5ec8-4100-9be3-240854206d94",
   "metadata": {},
   "outputs": [],
   "source": [
    "#encoders_dict[\"Claim Injury Type\"] # need to inverse transform"
   ]
  },
  {
   "cell_type": "code",
   "execution_count": null,
   "id": "c16ae85b-d0da-4730-b1e7-1e2e48946cb7",
   "metadata": {},
   "outputs": [],
   "source": [
    "features_to_encode_freq = [ \n",
    "    \"Carrier Name\", \"County of Injury\", \"District Name\", \"Gender\", \"Medical Fee Region\", \"Zip Code\"]\n",
    "\n",
    "features_to_encode_binary = [\"Attorney/Representative\", \"COVID-19 Indicator\", \"Carrier Type\", \"Alternative Dispute Resolution\"]\n",
    "\n",
    "#features_to_encode_ordinal = [\"Carrier Type\", \"Claim Injury Type\"]\n",
    "\n",
    "features_to_metadata = [\"Industry Code Description\",\"WCIO Cause of Injury Description\", \"WCIO Cause of Injury Description\",\n",
    "                        \"WCIO Nature of Injury Description\", \"WCIO Part Of Body Description\"\n",
    "]\n",
    "features_to_dummy = [\"First Hearing Date\", \"C-2 Date\", \"C-3 Date\"]\n",
    "features_to_days = [\"Accident Date\", \"Assembly Date\", \"Birth Year\"]\n",
    "test_encoder_dict = {}"
   ]
  },
  {
   "cell_type": "code",
   "execution_count": null,
   "id": "a281e321-2b11-4745-afc9-489666ed3c4c",
   "metadata": {},
   "outputs": [],
   "source": [
    "multiencoder(test_df, features_to_encode_freq, \"frequency\", test_encoder_dict)\n",
    "multiencoder(test_df, features_to_encode_binary, \"binary\", test_encoder_dict)\n",
    "gen_dummy(test_df,features_to_dummy)\n",
    "date_to_number(test_df, features_to_days)"
   ]
  },
  {
   "cell_type": "code",
   "execution_count": null,
   "id": "7ed38b40-6c9c-4783-93ea-1ca7b954a5ea",
   "metadata": {},
   "outputs": [],
   "source": [
    "test_df = test_df.drop(features_to_drop, axis = 1)"
   ]
  },
  {
   "cell_type": "code",
   "execution_count": null,
   "id": "b76067e4-d9a5-4f81-b440-d416c822ff73",
   "metadata": {},
   "outputs": [],
   "source": [
    "X_test = mm.transform(test_df)test_df[features_scale] = mm.transform(test_df[features_scale])"
   ]
  },
  {
   "cell_type": "code",
   "execution_count": null,
   "id": "720351a2-f88f-4129-aa1b-6fe352c6d9fb",
   "metadata": {},
   "outputs": [],
   "source": [
    "dt_pred = dt.predict(X_test)"
   ]
  },
  {
   "cell_type": "code",
   "execution_count": null,
   "id": "af97b5d9-e7ca-4f5d-8ab5-f600b7c6d59e",
   "metadata": {},
   "outputs": [],
   "source": [
    "submission = pd.read_csv(\"./data/sample_submission.csv\")"
   ]
  },
  {
   "cell_type": "code",
   "execution_count": null,
   "id": "c0c0906b-aa89-40cf-85d2-55b9e0eaaf2f",
   "metadata": {},
   "outputs": [],
   "source": [
    "submission[\"Claim Injury Type\"] = dt_pred"
   ]
  },
  {
   "cell_type": "code",
   "execution_count": null,
   "id": "d4be1ead-a5e2-47f2-b3a6-b6fc7b39b75f",
   "metadata": {},
   "outputs": [],
   "source": [
    "submission[\"Claim Injury Type\"] = encoders_dict[\"Claim Injury Type\"] .inverse_transform(submission[\"Claim Injury Type\"])"
   ]
  },
  {
   "cell_type": "code",
   "execution_count": null,
   "id": "ba9384fc-2512-4fa5-af94-c481b4c493dd",
   "metadata": {},
   "outputs": [],
   "source": [
    "make_csv = False"
   ]
  },
  {
   "cell_type": "code",
   "execution_count": null,
   "id": "17d4f330-1705-4c87-b077-3e9ff9f9032a",
   "metadata": {},
   "outputs": [],
   "source": [
    "if make_csv:\n",
    "    version = version_control(\"./counter.txt\")\n",
    "    submission.to_csv(f\"./submissions/Group45_Version{version:02}.csv\", index=False)"
   ]
  }
 ],
 "metadata": {
  "kernelspec": {
   "display_name": "Python 3 (ipykernel)",
   "language": "python",
   "name": "python3"
  },
  "language_info": {
   "codemirror_mode": {
    "name": "ipython",
    "version": 3
   },
   "file_extension": ".py",
   "mimetype": "text/x-python",
   "name": "python",
   "nbconvert_exporter": "python",
   "pygments_lexer": "ipython3",
   "version": "3.11.9"
  }
 },
 "nbformat": 4,
 "nbformat_minor": 5
}
